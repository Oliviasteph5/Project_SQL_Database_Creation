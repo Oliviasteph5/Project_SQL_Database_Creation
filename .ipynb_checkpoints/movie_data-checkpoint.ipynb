{
 "cells": [
  {
   "cell_type": "code",
   "execution_count": null,
   "id": "1a57f052",
   "metadata": {},
   "outputs": [],
   "source": [
    "import pandas as pd\n",
    "\n",
    "#import datasets\n",
    "ratings = pd.read_csv('imdb_movies.csv')\n",
    "top_movies = pd.read_csv('ThrowbackDataThursday Week 11 - Film Genre Stats.csv')\n",
    "\n",
    "# merge the two datasets based on the 'names' and 'top movies' columns\n",
    "movie_df = pd.merge(ratings, top_movies, left_on='names', right_on='Top Movie')"
   ]
  },
  {
   "cell_type": "code",
   "execution_count": null,
   "id": "5ab25f47",
   "metadata": {
    "scrolled": true
   },
   "outputs": [],
   "source": [
    "#making sure that they only merged the matching movies\n",
    "unique_top_movies = movie_df['Top Movie'].unique()\n",
    "print(\"Unique values in 'Top Movie' column:\", unique_top_movies)\n",
    "\n",
    "# Display unique values in the 'names' column\n",
    "unique_names = movie_df['names'].unique()\n",
    "print(\"Unique values in 'names' column:\", unique_names)"
   ]
  },
  {
   "cell_type": "code",
   "execution_count": null,
   "id": "afc77ade",
   "metadata": {},
   "outputs": [],
   "source": [
    "#Seeing what columns have been merged (all of them)\n",
    "print(movie_df.columns)"
   ]
  },
  {
   "cell_type": "code",
   "execution_count": null,
   "id": "02ea4bcf",
   "metadata": {},
   "outputs": [],
   "source": [
    "# List of columns to drop\n",
    "columns_to_drop = ['names', 'date_x', 'genre', 'overview', 'crew', 'orig_title',\n",
    "       'status', 'orig_lang', 'revenue', 'country', 'index', 'Movies Released', 'Top Movie Gross (That Year)',\n",
    "       'Top Movie Inflation-Adjusted Gross (That Year)']\n",
    "\n",
    "# Reassign the modified DataFrame to the same variable\n",
    "movie_df = movie_df.drop(columns=columns_to_drop)\n",
    "\n",
    "print(movie_df.columns)"
   ]
  },
  {
   "cell_type": "code",
   "execution_count": null,
   "id": "eaa58762",
   "metadata": {},
   "outputs": [],
   "source": [
    "#Reordering the columns\n",
    "desired_column_order = ['Top Movie', 'Year', 'Genre', 'score', 'Tickets Sold', 'budget_x', 'Gross', 'Inflation-Adjusted Gross']\n",
    "\n",
    "# Reorder the columns\n",
    "movie_df = movie_df[desired_column_order]\n",
    "\n",
    "print(movie_df.columns)"
   ]
  },
  {
   "cell_type": "code",
   "execution_count": null,
   "id": "a25f1126",
   "metadata": {},
   "outputs": [],
   "source": [
    "#renaming some columns\n",
    "movie_df = movie_df.rename(columns={'budget_x': 'budget', 'Inflation-Adjusted Gross': 'Inflation Adjusted Gross'})\n",
    "\n",
    "print(movie_df.columns)"
   ]
  },
  {
   "cell_type": "code",
   "execution_count": null,
   "id": "b5f212f9",
   "metadata": {},
   "outputs": [],
   "source": [
    "#formatting the titles to lowercase and replace spaces with underscores \n",
    "current_columns = movie_df.columns\n",
    "new_columns = [col.lower().replace(' ', '_') for col in current_columns]\n",
    "movie_df.columns = new_columns\n",
    "\n",
    "print(movie_df.columns)"
   ]
  },
  {
   "cell_type": "code",
   "execution_count": null,
   "id": "89f277ed",
   "metadata": {},
   "outputs": [],
   "source": [
    "null_values = movie_df.isnull().sum()\n",
    "null_values"
   ]
  },
  {
   "cell_type": "code",
   "execution_count": null,
   "id": "a3a383c8",
   "metadata": {},
   "outputs": [],
   "source": [
    "#Converting to CSV to use in SQL\n",
    "\n",
    "movie_df.to_csv('movie_data.csv', index=False)"
   ]
  },
  {
   "cell_type": "code",
   "execution_count": null,
   "id": "fd5b3ad0",
   "metadata": {},
   "outputs": [],
   "source": [
    "movie_df.info()"
   ]
  }
 ],
 "metadata": {
  "kernelspec": {
   "display_name": "Python 3 (ipykernel)",
   "language": "python",
   "name": "python3"
  },
  "language_info": {
   "codemirror_mode": {
    "name": "ipython",
    "version": 3
   },
   "file_extension": ".py",
   "mimetype": "text/x-python",
   "name": "python",
   "nbconvert_exporter": "python",
   "pygments_lexer": "ipython3",
   "version": "3.11.5"
  }
 },
 "nbformat": 4,
 "nbformat_minor": 5
}
