{
 "cells": [
  {
   "cell_type": "code",
   "execution_count": 1,
   "id": "1a57f052",
   "metadata": {},
   "outputs": [
    {
     "ename": "FileNotFoundError",
     "evalue": "[Errno 2] No such file or directory: 'imdb_movies.csv'",
     "output_type": "error",
     "traceback": [
      "\u001b[1;31m---------------------------------------------------------------------------\u001b[0m",
      "\u001b[1;31mFileNotFoundError\u001b[0m                         Traceback (most recent call last)",
      "Cell \u001b[1;32mIn[1], line 4\u001b[0m\n\u001b[0;32m      1\u001b[0m \u001b[38;5;28;01mimport\u001b[39;00m \u001b[38;5;21;01mpandas\u001b[39;00m \u001b[38;5;28;01mas\u001b[39;00m \u001b[38;5;21;01mpd\u001b[39;00m\n\u001b[0;32m      3\u001b[0m \u001b[38;5;66;03m#import datasets\u001b[39;00m\n\u001b[1;32m----> 4\u001b[0m ratings \u001b[38;5;241m=\u001b[39m pd\u001b[38;5;241m.\u001b[39mread_csv(\u001b[38;5;124m'\u001b[39m\u001b[38;5;124mimdb_movies.csv\u001b[39m\u001b[38;5;124m'\u001b[39m)\n\u001b[0;32m      5\u001b[0m top_movies \u001b[38;5;241m=\u001b[39m pd\u001b[38;5;241m.\u001b[39mread_csv(\u001b[38;5;124m'\u001b[39m\u001b[38;5;124mThrowbackDataThursday Week 11 - Film Genre Stats.csv\u001b[39m\u001b[38;5;124m'\u001b[39m)\n\u001b[0;32m      7\u001b[0m \u001b[38;5;66;03m# merge the two datasets based on the 'names' and 'top movies' columns\u001b[39;00m\n",
      "File \u001b[1;32m~\\anaconda3\\Lib\\site-packages\\pandas\\io\\parsers\\readers.py:912\u001b[0m, in \u001b[0;36mread_csv\u001b[1;34m(filepath_or_buffer, sep, delimiter, header, names, index_col, usecols, dtype, engine, converters, true_values, false_values, skipinitialspace, skiprows, skipfooter, nrows, na_values, keep_default_na, na_filter, verbose, skip_blank_lines, parse_dates, infer_datetime_format, keep_date_col, date_parser, date_format, dayfirst, cache_dates, iterator, chunksize, compression, thousands, decimal, lineterminator, quotechar, quoting, doublequote, escapechar, comment, encoding, encoding_errors, dialect, on_bad_lines, delim_whitespace, low_memory, memory_map, float_precision, storage_options, dtype_backend)\u001b[0m\n\u001b[0;32m    899\u001b[0m kwds_defaults \u001b[38;5;241m=\u001b[39m _refine_defaults_read(\n\u001b[0;32m    900\u001b[0m     dialect,\n\u001b[0;32m    901\u001b[0m     delimiter,\n\u001b[1;32m   (...)\u001b[0m\n\u001b[0;32m    908\u001b[0m     dtype_backend\u001b[38;5;241m=\u001b[39mdtype_backend,\n\u001b[0;32m    909\u001b[0m )\n\u001b[0;32m    910\u001b[0m kwds\u001b[38;5;241m.\u001b[39mupdate(kwds_defaults)\n\u001b[1;32m--> 912\u001b[0m \u001b[38;5;28;01mreturn\u001b[39;00m _read(filepath_or_buffer, kwds)\n",
      "File \u001b[1;32m~\\anaconda3\\Lib\\site-packages\\pandas\\io\\parsers\\readers.py:577\u001b[0m, in \u001b[0;36m_read\u001b[1;34m(filepath_or_buffer, kwds)\u001b[0m\n\u001b[0;32m    574\u001b[0m _validate_names(kwds\u001b[38;5;241m.\u001b[39mget(\u001b[38;5;124m\"\u001b[39m\u001b[38;5;124mnames\u001b[39m\u001b[38;5;124m\"\u001b[39m, \u001b[38;5;28;01mNone\u001b[39;00m))\n\u001b[0;32m    576\u001b[0m \u001b[38;5;66;03m# Create the parser.\u001b[39;00m\n\u001b[1;32m--> 577\u001b[0m parser \u001b[38;5;241m=\u001b[39m TextFileReader(filepath_or_buffer, \u001b[38;5;241m*\u001b[39m\u001b[38;5;241m*\u001b[39mkwds)\n\u001b[0;32m    579\u001b[0m \u001b[38;5;28;01mif\u001b[39;00m chunksize \u001b[38;5;129;01mor\u001b[39;00m iterator:\n\u001b[0;32m    580\u001b[0m     \u001b[38;5;28;01mreturn\u001b[39;00m parser\n",
      "File \u001b[1;32m~\\anaconda3\\Lib\\site-packages\\pandas\\io\\parsers\\readers.py:1407\u001b[0m, in \u001b[0;36mTextFileReader.__init__\u001b[1;34m(self, f, engine, **kwds)\u001b[0m\n\u001b[0;32m   1404\u001b[0m     \u001b[38;5;28mself\u001b[39m\u001b[38;5;241m.\u001b[39moptions[\u001b[38;5;124m\"\u001b[39m\u001b[38;5;124mhas_index_names\u001b[39m\u001b[38;5;124m\"\u001b[39m] \u001b[38;5;241m=\u001b[39m kwds[\u001b[38;5;124m\"\u001b[39m\u001b[38;5;124mhas_index_names\u001b[39m\u001b[38;5;124m\"\u001b[39m]\n\u001b[0;32m   1406\u001b[0m \u001b[38;5;28mself\u001b[39m\u001b[38;5;241m.\u001b[39mhandles: IOHandles \u001b[38;5;241m|\u001b[39m \u001b[38;5;28;01mNone\u001b[39;00m \u001b[38;5;241m=\u001b[39m \u001b[38;5;28;01mNone\u001b[39;00m\n\u001b[1;32m-> 1407\u001b[0m \u001b[38;5;28mself\u001b[39m\u001b[38;5;241m.\u001b[39m_engine \u001b[38;5;241m=\u001b[39m \u001b[38;5;28mself\u001b[39m\u001b[38;5;241m.\u001b[39m_make_engine(f, \u001b[38;5;28mself\u001b[39m\u001b[38;5;241m.\u001b[39mengine)\n",
      "File \u001b[1;32m~\\anaconda3\\Lib\\site-packages\\pandas\\io\\parsers\\readers.py:1661\u001b[0m, in \u001b[0;36mTextFileReader._make_engine\u001b[1;34m(self, f, engine)\u001b[0m\n\u001b[0;32m   1659\u001b[0m     \u001b[38;5;28;01mif\u001b[39;00m \u001b[38;5;124m\"\u001b[39m\u001b[38;5;124mb\u001b[39m\u001b[38;5;124m\"\u001b[39m \u001b[38;5;129;01mnot\u001b[39;00m \u001b[38;5;129;01min\u001b[39;00m mode:\n\u001b[0;32m   1660\u001b[0m         mode \u001b[38;5;241m+\u001b[39m\u001b[38;5;241m=\u001b[39m \u001b[38;5;124m\"\u001b[39m\u001b[38;5;124mb\u001b[39m\u001b[38;5;124m\"\u001b[39m\n\u001b[1;32m-> 1661\u001b[0m \u001b[38;5;28mself\u001b[39m\u001b[38;5;241m.\u001b[39mhandles \u001b[38;5;241m=\u001b[39m get_handle(\n\u001b[0;32m   1662\u001b[0m     f,\n\u001b[0;32m   1663\u001b[0m     mode,\n\u001b[0;32m   1664\u001b[0m     encoding\u001b[38;5;241m=\u001b[39m\u001b[38;5;28mself\u001b[39m\u001b[38;5;241m.\u001b[39moptions\u001b[38;5;241m.\u001b[39mget(\u001b[38;5;124m\"\u001b[39m\u001b[38;5;124mencoding\u001b[39m\u001b[38;5;124m\"\u001b[39m, \u001b[38;5;28;01mNone\u001b[39;00m),\n\u001b[0;32m   1665\u001b[0m     compression\u001b[38;5;241m=\u001b[39m\u001b[38;5;28mself\u001b[39m\u001b[38;5;241m.\u001b[39moptions\u001b[38;5;241m.\u001b[39mget(\u001b[38;5;124m\"\u001b[39m\u001b[38;5;124mcompression\u001b[39m\u001b[38;5;124m\"\u001b[39m, \u001b[38;5;28;01mNone\u001b[39;00m),\n\u001b[0;32m   1666\u001b[0m     memory_map\u001b[38;5;241m=\u001b[39m\u001b[38;5;28mself\u001b[39m\u001b[38;5;241m.\u001b[39moptions\u001b[38;5;241m.\u001b[39mget(\u001b[38;5;124m\"\u001b[39m\u001b[38;5;124mmemory_map\u001b[39m\u001b[38;5;124m\"\u001b[39m, \u001b[38;5;28;01mFalse\u001b[39;00m),\n\u001b[0;32m   1667\u001b[0m     is_text\u001b[38;5;241m=\u001b[39mis_text,\n\u001b[0;32m   1668\u001b[0m     errors\u001b[38;5;241m=\u001b[39m\u001b[38;5;28mself\u001b[39m\u001b[38;5;241m.\u001b[39moptions\u001b[38;5;241m.\u001b[39mget(\u001b[38;5;124m\"\u001b[39m\u001b[38;5;124mencoding_errors\u001b[39m\u001b[38;5;124m\"\u001b[39m, \u001b[38;5;124m\"\u001b[39m\u001b[38;5;124mstrict\u001b[39m\u001b[38;5;124m\"\u001b[39m),\n\u001b[0;32m   1669\u001b[0m     storage_options\u001b[38;5;241m=\u001b[39m\u001b[38;5;28mself\u001b[39m\u001b[38;5;241m.\u001b[39moptions\u001b[38;5;241m.\u001b[39mget(\u001b[38;5;124m\"\u001b[39m\u001b[38;5;124mstorage_options\u001b[39m\u001b[38;5;124m\"\u001b[39m, \u001b[38;5;28;01mNone\u001b[39;00m),\n\u001b[0;32m   1670\u001b[0m )\n\u001b[0;32m   1671\u001b[0m \u001b[38;5;28;01massert\u001b[39;00m \u001b[38;5;28mself\u001b[39m\u001b[38;5;241m.\u001b[39mhandles \u001b[38;5;129;01mis\u001b[39;00m \u001b[38;5;129;01mnot\u001b[39;00m \u001b[38;5;28;01mNone\u001b[39;00m\n\u001b[0;32m   1672\u001b[0m f \u001b[38;5;241m=\u001b[39m \u001b[38;5;28mself\u001b[39m\u001b[38;5;241m.\u001b[39mhandles\u001b[38;5;241m.\u001b[39mhandle\n",
      "File \u001b[1;32m~\\anaconda3\\Lib\\site-packages\\pandas\\io\\common.py:859\u001b[0m, in \u001b[0;36mget_handle\u001b[1;34m(path_or_buf, mode, encoding, compression, memory_map, is_text, errors, storage_options)\u001b[0m\n\u001b[0;32m    854\u001b[0m \u001b[38;5;28;01melif\u001b[39;00m \u001b[38;5;28misinstance\u001b[39m(handle, \u001b[38;5;28mstr\u001b[39m):\n\u001b[0;32m    855\u001b[0m     \u001b[38;5;66;03m# Check whether the filename is to be opened in binary mode.\u001b[39;00m\n\u001b[0;32m    856\u001b[0m     \u001b[38;5;66;03m# Binary mode does not support 'encoding' and 'newline'.\u001b[39;00m\n\u001b[0;32m    857\u001b[0m     \u001b[38;5;28;01mif\u001b[39;00m ioargs\u001b[38;5;241m.\u001b[39mencoding \u001b[38;5;129;01mand\u001b[39;00m \u001b[38;5;124m\"\u001b[39m\u001b[38;5;124mb\u001b[39m\u001b[38;5;124m\"\u001b[39m \u001b[38;5;129;01mnot\u001b[39;00m \u001b[38;5;129;01min\u001b[39;00m ioargs\u001b[38;5;241m.\u001b[39mmode:\n\u001b[0;32m    858\u001b[0m         \u001b[38;5;66;03m# Encoding\u001b[39;00m\n\u001b[1;32m--> 859\u001b[0m         handle \u001b[38;5;241m=\u001b[39m \u001b[38;5;28mopen\u001b[39m(\n\u001b[0;32m    860\u001b[0m             handle,\n\u001b[0;32m    861\u001b[0m             ioargs\u001b[38;5;241m.\u001b[39mmode,\n\u001b[0;32m    862\u001b[0m             encoding\u001b[38;5;241m=\u001b[39mioargs\u001b[38;5;241m.\u001b[39mencoding,\n\u001b[0;32m    863\u001b[0m             errors\u001b[38;5;241m=\u001b[39merrors,\n\u001b[0;32m    864\u001b[0m             newline\u001b[38;5;241m=\u001b[39m\u001b[38;5;124m\"\u001b[39m\u001b[38;5;124m\"\u001b[39m,\n\u001b[0;32m    865\u001b[0m         )\n\u001b[0;32m    866\u001b[0m     \u001b[38;5;28;01melse\u001b[39;00m:\n\u001b[0;32m    867\u001b[0m         \u001b[38;5;66;03m# Binary mode\u001b[39;00m\n\u001b[0;32m    868\u001b[0m         handle \u001b[38;5;241m=\u001b[39m \u001b[38;5;28mopen\u001b[39m(handle, ioargs\u001b[38;5;241m.\u001b[39mmode)\n",
      "\u001b[1;31mFileNotFoundError\u001b[0m: [Errno 2] No such file or directory: 'imdb_movies.csv'"
     ]
    }
   ],
   "source": [
    "import pandas as pd\n",
    "\n",
    "#import datasets\n",
    "ratings = pd.read_csv('imdb_movies.csv')\n",
    "top_movies = pd.read_csv('ThrowbackDataThursday Week 11 - Film Genre Stats.csv')\n",
    "\n",
    "# merge the two datasets based on the 'names' and 'top movies' columns\n",
    "movie_df = pd.merge(ratings, top_movies, left_on='names', right_on='Top Movie')"
   ]
  },
  {
   "cell_type": "code",
   "execution_count": null,
   "id": "5ab25f47",
   "metadata": {
    "scrolled": true
   },
   "outputs": [],
   "source": [
    "#making sure that they only merged the matching movies\n",
    "unique_top_movies = movie_df['Top Movie'].unique()\n",
    "print(\"Unique values in 'Top Movie' column:\", unique_top_movies)\n",
    "\n",
    "# Display unique values in the 'names' column\n",
    "unique_names = movie_df['names'].unique()\n",
    "print(\"Unique values in 'names' column:\", unique_names)"
   ]
  },
  {
   "cell_type": "code",
   "execution_count": null,
   "id": "afc77ade",
   "metadata": {},
   "outputs": [],
   "source": [
    "#Seeing what columns have been merged (all of them)\n",
    "print(movie_df.columns)"
   ]
  },
  {
   "cell_type": "code",
   "execution_count": null,
   "id": "02ea4bcf",
   "metadata": {},
   "outputs": [],
   "source": [
    "# List of columns to drop\n",
    "columns_to_drop = ['names', 'date_x', 'genre', 'overview', 'crew', 'orig_title',\n",
    "       'status', 'orig_lang', 'revenue', 'country', 'index', 'Movies Released', 'Top Movie Gross (That Year)',\n",
    "       'Top Movie Inflation-Adjusted Gross (That Year)']\n",
    "\n",
    "# Reassign the modified DataFrame to the same variable\n",
    "movie_df = movie_df.drop(columns=columns_to_drop)\n",
    "\n",
    "print(movie_df.columns)"
   ]
  },
  {
   "cell_type": "code",
   "execution_count": null,
   "id": "eaa58762",
   "metadata": {},
   "outputs": [],
   "source": [
    "#Reordering the columns\n",
    "desired_column_order = ['Top Movie', 'Year', 'Genre', 'score', 'Tickets Sold', 'budget_x', 'Gross', 'Inflation-Adjusted Gross']\n",
    "\n",
    "# Reorder the columns\n",
    "movie_df = movie_df[desired_column_order]\n",
    "\n",
    "print(movie_df.columns)"
   ]
  },
  {
   "cell_type": "code",
   "execution_count": null,
   "id": "a25f1126",
   "metadata": {},
   "outputs": [],
   "source": [
    "#renaming some columns\n",
    "movie_df = movie_df.rename(columns={'budget_x': 'budget', 'Inflation-Adjusted Gross': 'Inflation Adjusted Gross'})\n",
    "\n",
    "print(movie_df.columns)"
   ]
  },
  {
   "cell_type": "code",
   "execution_count": null,
   "id": "b5f212f9",
   "metadata": {},
   "outputs": [],
   "source": [
    "#formatting the titles to lowercase and replace spaces with underscores \n",
    "current_columns = movie_df.columns\n",
    "new_columns = [col.lower().replace(' ', '_') for col in current_columns]\n",
    "movie_df.columns = new_columns\n",
    "\n",
    "print(movie_df.columns)"
   ]
  },
  {
   "cell_type": "code",
   "execution_count": null,
   "id": "a3a383c8",
   "metadata": {},
   "outputs": [],
   "source": [
    "#Converting to CSV to use in SQL\n",
    "\n",
    "movie_df.to_csv('movie_data.csv', index=False)"
   ]
  },
  {
   "cell_type": "code",
   "execution_count": null,
   "id": "fd5b3ad0",
   "metadata": {},
   "outputs": [],
   "source": [
    "movie_df.info()"
   ]
  },
  {
   "cell_type": "code",
   "execution_count": null,
   "id": "51f91d24",
   "metadata": {},
   "outputs": [],
   "source": [
    "movie_df.columns"
   ]
  },
  {
   "cell_type": "code",
   "execution_count": null,
   "id": "d05ec3df",
   "metadata": {},
   "outputs": [],
   "source": [
    "movie_df.top_movie"
   ]
  },
  {
   "cell_type": "code",
   "execution_count": null,
   "id": "9f7e6d6d",
   "metadata": {},
   "outputs": [],
   "source": [
    "movie_df.top_movie.unique()"
   ]
  },
  {
   "cell_type": "code",
   "execution_count": null,
   "id": "ee383c14",
   "metadata": {},
   "outputs": [],
   "source": [
    "# See duplicates here\n",
    "movie_df[movie_df.year == 1996]"
   ]
  },
  {
   "cell_type": "code",
   "execution_count": null,
   "id": "df364795",
   "metadata": {},
   "outputs": [],
   "source": [
    "# dropped rows that have duplicates in name and year, keep first occurance\n",
    "cleaned_movie_df = movie_df.drop_duplicates(subset=['top_movie','year'])"
   ]
  },
  {
   "cell_type": "code",
   "execution_count": null,
   "id": "3904063c",
   "metadata": {},
   "outputs": [],
   "source": [
    "# recheck for the same year as above --> worked \n",
    "cleaned_movie_df[cleaned_movie_df.year == 1996]"
   ]
  },
  {
   "cell_type": "code",
   "execution_count": null,
   "id": "81a43be3",
   "metadata": {},
   "outputs": [],
   "source": [
    "# Check how many rows we lost --> 50"
   ]
  },
  {
   "cell_type": "code",
   "execution_count": null,
   "id": "23ab5c33",
   "metadata": {},
   "outputs": [],
   "source": [
    "len(movie_df)"
   ]
  },
  {
   "cell_type": "code",
   "execution_count": null,
   "id": "417392ae",
   "metadata": {},
   "outputs": [],
   "source": [
    "len(cleaned_movie_df)"
   ]
  },
  {
   "cell_type": "code",
   "execution_count": null,
   "id": "f0236ed6",
   "metadata": {},
   "outputs": [],
   "source": [
    "# Adding a column for unique names\n",
    "# creating an empty list that wil be filles with the data for the column\n",
    "uid = []\n",
    "# resetting the index so we can loop over the df\n",
    "cleaned_movie_df = cleaned_movie_df.reset_index(drop=True)\n",
    "#loop over every row of the df\n",
    "for row in range(len(cleaned_movie_df)):\n",
    "    # for every row add name_year to the uid list\n",
    "    uid.append(f'{cleaned_movie_df[\"top_movie\"][row]}_{cleaned_movie_df[\"year\"][row]}')\n",
    "# create a new column \"unique_name\" and use uid as values\n",
    "cleaned_movie_df['unique_name'] = uid\n",
    "# display df\n",
    "cleaned_movie_df"
   ]
  },
  {
   "cell_type": "code",
   "execution_count": null,
   "id": "807c739e",
   "metadata": {},
   "outputs": [],
   "source": [
    "# Titanic has 2 entries (1997 + 1998) --> now we can access them seperatly\n",
    "cleaned_movie_df[cleaned_movie_df.unique_name == 'Titanic_1998']"
   ]
  },
  {
   "cell_type": "code",
   "execution_count": null,
   "id": "9d605b68",
   "metadata": {},
   "outputs": [],
   "source": [
    "#fun with plots\n",
    "#perfect correlation\n",
    "import plotly.express as px\n",
    "\n",
    "fig = px.line(cleaned_movie_df, x=\"tickets_sold\", y=\"inflation_adjusted_gross\", title='Test')\n",
    "fig.show()"
   ]
  },
  {
   "cell_type": "code",
   "execution_count": null,
   "id": "381079da",
   "metadata": {},
   "outputs": [],
   "source": []
  }
 ],
 "metadata": {
  "kernelspec": {
   "display_name": "Python 3 (ipykernel)",
   "language": "python",
   "name": "python3"
  },
  "language_info": {
   "codemirror_mode": {
    "name": "ipython",
    "version": 3
   },
   "file_extension": ".py",
   "mimetype": "text/x-python",
   "name": "python",
   "nbconvert_exporter": "python",
   "pygments_lexer": "ipython3",
   "version": "3.11.5"
  }
 },
 "nbformat": 4,
 "nbformat_minor": 5
}
